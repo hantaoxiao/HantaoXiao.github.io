{
 "cells": [
  {
   "cell_type": "markdown",
   "metadata": {},
   "source": [
    "## How cultural background of fashion brands affects customers’ emotion?"
   ]
  },
  {
   "cell_type": "markdown",
   "metadata": {},
   "source": [
    "Before starting my project, I would like to ask you a question: Will you be affected by the facial expression of models when deciding whether to purchase something? According to my research from my surrounding friends, their answer is “definitely yes”. Rather than an unformal survey without any authority, Sooyun Kim (2016) evaluated the influence of brand models' facial expressions, theme color, and decoration of stores will considerably impact the customer's willingness to purchase. In the meantime, the brand culture heavily influences how models post their facial expressions, which means that by modifying the types of emotional emotions the models displayed on their faces, the company's culture indirectly affects the behavior of customers.\n",
    "Based on the argument above, I believe that there is a close relationship between the culture of brands and the emotional status of customers. However, the question, of how to computationally test the hypothesis, especially how to define and detect the brand culture and emotional status of customers, makes the project unapproachable. The data I used for this project, collected from Cornell University, is composed of information about 24,752 posts by 13,350 people on Instagram and basically searches for posts mentioning 48 internationally renowned fashion brand names as hashtags, which are listed below. The categories here mainly use the brand’s market value, history and culture, including Mega couture, Small couture, Designer, and High street."
   ]
  },
  {
   "cell_type": "markdown",
   "metadata": {},
   "source": [
    "| Brand category      | Brand name |\n",
    "| :-----------: | :-----------: |\n",
    "| Mega couture      | burberry, cartier, chanel, gucci, hermes, louisvuitton, prada, tiffany       |\n",
    "| Small couture   | brioni, brunellocucinelli, cesareattolini, ermenegildozegna, fabianafilippi, kiton, loropiana, nancygonzalez        |\n",
    "| Designer   | acnestudios, alexandermcqueen, alexanderwang, coach, dvf, iro, isabelmarant, katespade, maisonmargiela, marcbymarcjacobs, marcjacobs, michaelkors, paulsmith, rebeccaminkoff, sandro, stellamccartney, theory, vince, viviennewestwood        |\n",
    "| High street   | abercrombie, americanapparel, americaneagle, calvinklein, forever21, gap, hollister, jcrew, mango, topshop, uniqlo, urbanoutfitters, zara        |"
   ]
  },
  {
   "cell_type": "markdown",
   "metadata": {},
   "source": [
    "Meanwhile, the connection with normal people, or we say the degree of Down to earth, varies in different categories. Specifically, Mega couture is the most remote category since these high-end products are not only offered as commodities but also as a form of social identity verification that subtly signals one's social standing and financial power. Small couture, according to my research on the brand's website, its average price is higher than Mega (according to the brand's research on the \"latest styles\"), which, in my opinion, is a brand chosen by the upper class because they think Mega is popular and thus cannot highlight their unique line. The Designer category is relatively redundant because designer brands represent a very niche consumer preference, and therefore the market value of brands in this category is relatively small. High street category, in these four categories, the average price of the cheapest, while the highest frequency of mass consumer contact with the brand, carrying very little social identity-building role. "
   ]
  },
  {
   "cell_type": "code",
   "execution_count": 105,
   "metadata": {},
   "outputs": [],
   "source": [
    "import pandas as pd\n",
    "import numpy as np\n",
    "import matplotlib.pyplot as plt\n",
    "import statsmodels.formula.api as smf\n",
    "\n",
    "# Read the data\n",
    "df = pd.read_csv(\"fashion data on Instagram.csv\")"
   ]
  },
  {
   "cell_type": "code",
   "execution_count": 106,
   "metadata": {},
   "outputs": [
    {
     "data": {
      "text/plain": [
       "(24752, 33)"
      ]
     },
     "execution_count": 106,
     "metadata": {},
     "output_type": "execute_result"
    }
   ],
   "source": [
    "df.shape"
   ]
  },
  {
   "cell_type": "code",
   "execution_count": 107,
   "metadata": {},
   "outputs": [
    {
     "name": "stdout",
     "output_type": "stream",
     "text": [
      "['UserId', 'Followings', 'Followers', 'MediaCount', 'BrandName', 'BrandCategory', 'Hashtags', 'Caption', 'ImgURL', 'Likes', 'Comments ', 'CreationTime', 'Link', 'Selfie', 'BodySnap', 'Marketing', 'ProductOnly', 'NonFashion', 'Face', 'Logo', 'BrandLogo', 'Smile', 'Outdoor', 'NumberOfPeople', 'NumberOfFashionProduct', 'Anger', 'Contempt', 'Disgust', 'Fear', 'Happiness', 'Neutral', 'Sadness', 'Surprise']\n"
     ]
    },
    {
     "data": {
      "text/html": [
       "<div>\n",
       "<style scoped>\n",
       "    .dataframe tbody tr th:only-of-type {\n",
       "        vertical-align: middle;\n",
       "    }\n",
       "\n",
       "    .dataframe tbody tr th {\n",
       "        vertical-align: top;\n",
       "    }\n",
       "\n",
       "    .dataframe thead th {\n",
       "        text-align: right;\n",
       "    }\n",
       "</style>\n",
       "<table border=\"1\" class=\"dataframe\">\n",
       "  <thead>\n",
       "    <tr style=\"text-align: right;\">\n",
       "      <th></th>\n",
       "      <th>UserId</th>\n",
       "      <th>Followings</th>\n",
       "      <th>Followers</th>\n",
       "      <th>MediaCount</th>\n",
       "      <th>BrandName</th>\n",
       "      <th>BrandCategory</th>\n",
       "      <th>Hashtags</th>\n",
       "      <th>Caption</th>\n",
       "      <th>ImgURL</th>\n",
       "      <th>Likes</th>\n",
       "      <th>...</th>\n",
       "      <th>NumberOfPeople</th>\n",
       "      <th>NumberOfFashionProduct</th>\n",
       "      <th>Anger</th>\n",
       "      <th>Contempt</th>\n",
       "      <th>Disgust</th>\n",
       "      <th>Fear</th>\n",
       "      <th>Happiness</th>\n",
       "      <th>Neutral</th>\n",
       "      <th>Sadness</th>\n",
       "      <th>Surprise</th>\n",
       "    </tr>\n",
       "  </thead>\n",
       "  <tbody>\n",
       "    <tr>\n",
       "      <th>0</th>\n",
       "      <td>1171579752855683619_212070047</td>\n",
       "      <td>518.0</td>\n",
       "      <td>9840.0</td>\n",
       "      <td>541</td>\n",
       "      <td>abercrombie</td>\n",
       "      <td>High street</td>\n",
       "      <td>beautiful, summer, fashion, love, cute, food, ...</td>\n",
       "      <td>We were born to be REAL, not to be perfect. ...</td>\n",
       "      <td>https://scontent.cdninstagram.com/t51.2885-15/...</td>\n",
       "      <td>97</td>\n",
       "      <td>...</td>\n",
       "      <td>0.931486</td>\n",
       "      <td>3.42211</td>\n",
       "      <td>0.083862</td>\n",
       "      <td>0.015089</td>\n",
       "      <td>0.000583</td>\n",
       "      <td>0.000026</td>\n",
       "      <td>0.000017</td>\n",
       "      <td>0.890586</td>\n",
       "      <td>0.009657</td>\n",
       "      <td>0.000181</td>\n",
       "    </tr>\n",
       "    <tr>\n",
       "      <th>1</th>\n",
       "      <td>1171594777274371222_176762322</td>\n",
       "      <td>7333.0</td>\n",
       "      <td>2300.0</td>\n",
       "      <td>272</td>\n",
       "      <td>abercrombie</td>\n",
       "      <td>High street</td>\n",
       "      <td>teen, model, brunette, selfie, hollister, snap...</td>\n",
       "      <td>Gotta run, but first, let me take selfie. Me...</td>\n",
       "      <td>https://scontent.cdninstagram.com/t51.2885-15/...</td>\n",
       "      <td>94</td>\n",
       "      <td>...</td>\n",
       "      <td>0.466329</td>\n",
       "      <td>2.91971</td>\n",
       "      <td>0.000000</td>\n",
       "      <td>0.000000</td>\n",
       "      <td>0.000000</td>\n",
       "      <td>0.000000</td>\n",
       "      <td>0.000000</td>\n",
       "      <td>0.000000</td>\n",
       "      <td>0.000000</td>\n",
       "      <td>0.000000</td>\n",
       "    </tr>\n",
       "    <tr>\n",
       "      <th>2</th>\n",
       "      <td>1171407552643586413_581125501</td>\n",
       "      <td>131.0</td>\n",
       "      <td>605.0</td>\n",
       "      <td>106</td>\n",
       "      <td>abercrombie</td>\n",
       "      <td>High street</td>\n",
       "      <td>alexandani, cute, llbean, beanboots, anthropol...</td>\n",
       "      <td>dress to impress\\U0001f457</td>\n",
       "      <td>https://scontent.cdninstagram.com/t51.2885-15/...</td>\n",
       "      <td>91</td>\n",
       "      <td>...</td>\n",
       "      <td>1.116500</td>\n",
       "      <td>4.69096</td>\n",
       "      <td>0.000000</td>\n",
       "      <td>0.000000</td>\n",
       "      <td>0.000000</td>\n",
       "      <td>0.000000</td>\n",
       "      <td>0.000000</td>\n",
       "      <td>0.000000</td>\n",
       "      <td>0.000000</td>\n",
       "      <td>0.000000</td>\n",
       "    </tr>\n",
       "    <tr>\n",
       "      <th>3</th>\n",
       "      <td>1171407552643586413_581125501</td>\n",
       "      <td>131.0</td>\n",
       "      <td>605.0</td>\n",
       "      <td>106</td>\n",
       "      <td>abercrombie</td>\n",
       "      <td>High street</td>\n",
       "      <td>alexandani, cute, llbean, beanboots, anthropol...</td>\n",
       "      <td>dress to impress\\U0001f457</td>\n",
       "      <td>https://scontent.cdninstagram.com/t51.2885-15/...</td>\n",
       "      <td>94</td>\n",
       "      <td>...</td>\n",
       "      <td>1.116500</td>\n",
       "      <td>4.69096</td>\n",
       "      <td>0.000000</td>\n",
       "      <td>0.000000</td>\n",
       "      <td>0.000000</td>\n",
       "      <td>0.000000</td>\n",
       "      <td>0.000000</td>\n",
       "      <td>0.000000</td>\n",
       "      <td>0.000000</td>\n",
       "      <td>0.000000</td>\n",
       "    </tr>\n",
       "    <tr>\n",
       "      <th>4</th>\n",
       "      <td>1171508187966229230_2797323089</td>\n",
       "      <td>132.0</td>\n",
       "      <td>456.0</td>\n",
       "      <td>56</td>\n",
       "      <td>abercrombie</td>\n",
       "      <td>High street</td>\n",
       "      <td>abercrombieandfitch, shopping, love, hollister...</td>\n",
       "      <td>#love #shopping #shoppen #hollister #abercro...</td>\n",
       "      <td>https://scontent.cdninstagram.com/t51.2885-15/...</td>\n",
       "      <td>9</td>\n",
       "      <td>...</td>\n",
       "      <td>0.393063</td>\n",
       "      <td>1.45586</td>\n",
       "      <td>0.000000</td>\n",
       "      <td>0.000000</td>\n",
       "      <td>0.000000</td>\n",
       "      <td>0.000000</td>\n",
       "      <td>0.000000</td>\n",
       "      <td>0.000000</td>\n",
       "      <td>0.000000</td>\n",
       "      <td>0.000000</td>\n",
       "    </tr>\n",
       "  </tbody>\n",
       "</table>\n",
       "<p>5 rows × 33 columns</p>\n",
       "</div>"
      ],
      "text/plain": [
       "                           UserId  Followings  Followers  MediaCount  \\\n",
       "0   1171579752855683619_212070047       518.0     9840.0         541   \n",
       "1   1171594777274371222_176762322      7333.0     2300.0         272   \n",
       "2   1171407552643586413_581125501       131.0      605.0         106   \n",
       "3   1171407552643586413_581125501       131.0      605.0         106   \n",
       "4  1171508187966229230_2797323089       132.0      456.0          56   \n",
       "\n",
       "     BrandName BrandCategory  \\\n",
       "0  abercrombie   High street   \n",
       "1  abercrombie   High street   \n",
       "2  abercrombie   High street   \n",
       "3  abercrombie   High street   \n",
       "4  abercrombie   High street   \n",
       "\n",
       "                                            Hashtags  \\\n",
       "0  beautiful, summer, fashion, love, cute, food, ...   \n",
       "1  teen, model, brunette, selfie, hollister, snap...   \n",
       "2  alexandani, cute, llbean, beanboots, anthropol...   \n",
       "3  alexandani, cute, llbean, beanboots, anthropol...   \n",
       "4  abercrombieandfitch, shopping, love, hollister...   \n",
       "\n",
       "                                             Caption  \\\n",
       "0    We were born to be REAL, not to be perfect. ...   \n",
       "1    Gotta run, but first, let me take selfie. Me...   \n",
       "2                        dress to impress\\U0001f457    \n",
       "3                        dress to impress\\U0001f457    \n",
       "4    #love #shopping #shoppen #hollister #abercro...   \n",
       "\n",
       "                                              ImgURL  Likes  ...  \\\n",
       "0  https://scontent.cdninstagram.com/t51.2885-15/...     97  ...   \n",
       "1  https://scontent.cdninstagram.com/t51.2885-15/...     94  ...   \n",
       "2  https://scontent.cdninstagram.com/t51.2885-15/...     91  ...   \n",
       "3  https://scontent.cdninstagram.com/t51.2885-15/...     94  ...   \n",
       "4  https://scontent.cdninstagram.com/t51.2885-15/...      9  ...   \n",
       "\n",
       "   NumberOfPeople  NumberOfFashionProduct     Anger  Contempt   Disgust  \\\n",
       "0        0.931486                 3.42211  0.083862  0.015089  0.000583   \n",
       "1        0.466329                 2.91971  0.000000  0.000000  0.000000   \n",
       "2        1.116500                 4.69096  0.000000  0.000000  0.000000   \n",
       "3        1.116500                 4.69096  0.000000  0.000000  0.000000   \n",
       "4        0.393063                 1.45586  0.000000  0.000000  0.000000   \n",
       "\n",
       "       Fear  Happiness   Neutral   Sadness  Surprise  \n",
       "0  0.000026   0.000017  0.890586  0.009657  0.000181  \n",
       "1  0.000000   0.000000  0.000000  0.000000  0.000000  \n",
       "2  0.000000   0.000000  0.000000  0.000000  0.000000  \n",
       "3  0.000000   0.000000  0.000000  0.000000  0.000000  \n",
       "4  0.000000   0.000000  0.000000  0.000000  0.000000  \n",
       "\n",
       "[5 rows x 33 columns]"
      ]
     },
     "execution_count": 107,
     "metadata": {},
     "output_type": "execute_result"
    }
   ],
   "source": [
    "print(df.columns.tolist()) # show the column name\n",
    "df.head()"
   ]
  },
  {
   "cell_type": "markdown",
   "metadata": {},
   "source": [
    "## In the following statement I will simply illustrate the meaning of Dataframe columns. \n",
    "•  User Id: Numeric ID of the posting user\n",
    "\n",
    "•  Followings: The number other users a given uploader is following (i.e., distinct sources of the uploader)\n",
    "\n",
    "•  Followers: The number of other users subscribing to the uploader’s account (i.e., fans of the uploader)\n",
    "\n",
    "•  Media count: The number of total posts (both fashion and non-fashion) contributed by the uploader\n",
    "\n",
    "•  Brand name: A brand name used in fashion post search process, used as a hashtag in user’s post\n",
    "\n",
    "<font color=yellow>•  Brand category: Grouping of a brand</font> (Used to group data)\n",
    "\n",
    "•  Hashtags: The list of hashtags in a post\n",
    "\n",
    "<font color=yellow>•  Non-fashion: Images not related to fashion such as food, landscape, and animals</font> (Used to clear data)\n",
    "\n",
    "•  Face: Images containing frontal or side faces\n",
    "\n",
    "\n",
    "<font color=green>•  Sentimental Index{Anger, Contempt, Disgust, Fear, Happiness, Neutral, Sadness, Surprise}</font> (Created by Microsoft emotion API)"
   ]
  },
  {
   "cell_type": "code",
   "execution_count": 108,
   "metadata": {},
   "outputs": [
    {
     "data": {
      "text/plain": [
       "BrandCategory  BrandName        \n",
       "Designer       acnestudios          670\n",
       "               alexandermcqueen     608\n",
       "               alexanderwang        564\n",
       "               coach                404\n",
       "               dvf                  788\n",
       "               iro                  739\n",
       "               isabelmarant         577\n",
       "               katespade            467\n",
       "               maisonmargiela       642\n",
       "               marcbymarcjacobs     524\n",
       "               marcjacobs           480\n",
       "               michaelkors          271\n",
       "               paulsmith            380\n",
       "               rebeccaminkoff       706\n",
       "               sandro               584\n",
       "               stellamccartney      584\n",
       "               theory               619\n",
       "               vince                779\n",
       "               viviennewestwood     700\n",
       "High street    abercrombie          128\n",
       "               americanapparel      513\n",
       "               americaneagle        333\n",
       "               calvinklein          528\n",
       "               forever21            372\n",
       "               gap                  320\n",
       "               hollister            401\n",
       "               jcrew                616\n",
       "               mango                473\n",
       "               topshop              354\n",
       "               uniqlo               529\n",
       "               urbanoutfitters      661\n",
       "               zara                 545\n",
       "Mega couture   burberry             272\n",
       "               cartier               54\n",
       "               chanel               289\n",
       "               gucci                427\n",
       "               hermes               120\n",
       "               louisvuitton         122\n",
       "               prada                383\n",
       "               tiffany              190\n",
       "Small couture  brioni               519\n",
       "               brunellocucinelli    888\n",
       "               cesareattolini       773\n",
       "               ermenegildozegna     816\n",
       "               fabianafilippi       820\n",
       "               kiton                734\n",
       "               loropiana            679\n",
       "               nancygonzalez        807\n",
       "dtype: int64"
      ]
     },
     "execution_count": 108,
     "metadata": {},
     "output_type": "execute_result"
    }
   ],
   "source": [
    "Brand = df.groupby(['BrandCategory', 'BrandName']).size() # show the number of data by the index of Category and Name \n",
    "Brand"
   ]
  },
  {
   "cell_type": "markdown",
   "metadata": {},
   "source": [
    "Based on the introduction of different categories, I would like to discuss how the degree of Down to earth of brand culture affects customers' emotional status in social media. The cultural pattern in this project is the degree of Down to earth, which will be evaluated by the Microsoft emotion API. According to the theory approached by Peirce, the object of my project is the degree of Down to earth, sign-vehicle is smile, for the reason that Van der Geld (2007) has proven smile to be the most effective way to show affinity among facial expressions, and the interpretant is the facial expression of the person in the posts."
   ]
  },
  {
   "cell_type": "markdown",
   "metadata": {},
   "source": [
    "![sign](/Users/adair/Downloads/dataverse_files/sign.png \"Maison Margiela\")"
   ]
  },
  {
   "cell_type": "markdown",
   "metadata": {},
   "source": [
    "There is no doubt that the culture of brands, though only using the distance with normal customers to represent, is a kind of conventionalized pattern since the image of brands is what they want us to perceive by devoting millions of budgets to the advertisement and inviting the famous celebrity who match their cultural background to endorsement. In the book The Luxury Strategy: Break the Rules of Marketing to Build Luxury Brands, the marketing methods and promotion and publicity of luxury goods should be high and cold, that is to say, they should keep a proper distance from the general public in order to help maintain the authority and mystery of luxury goods."
   ]
  },
  {
   "cell_type": "code",
   "execution_count": 109,
   "metadata": {},
   "outputs": [
    {
     "data": {
      "image/png": "[encoded data removed]",
      "text/plain": [
       "<Figure size 640x480 with 1 Axes>"
      ]
     },
     "metadata": {},
     "output_type": "display_data"
    }
   ],
   "source": [
    "withface = df[df['ProductOnly'] < 0.4] # filter the photos without face\n",
    "\n",
    "withface2 = withface[withface['Face'] > 0.4] # double-filter the photos without face\n",
    "\n",
    "happyemo = withface.groupby(\"BrandCategory\").mean() # groupby Brand and get the average rate of happiness\n",
    "\n",
    "data = happyemo[\"Happiness\"] # get the data\n",
    "\n",
    "label = happyemo.index.tolist() # get the brand name\n",
    "\n",
    "plt.tick_params(axis='y', labelsize=4)\n",
    "plt.xlabel('The average rate of happiness in post affected by brands')\n",
    "plt.ylabel('BrandCategory')\n",
    "plt.title('The distribution of happiness rate')\n",
    "plt.bar(label, data) \n",
    "plt.show()"
   ]
  },
  {
   "cell_type": "markdown",
   "metadata": {},
   "source": [
    "The results of the happiness ratio occurring in four categories are in line with what I anticipated and fairly well with my earlier analysis of categories. In the following table, High Street, with the cheapest average price and very close distance from the general public, shows the highest happiness ratio in the dataset, followed by Designer, which constituted a large number of brands with different styles where some of them show a strong sense of distance while some are approachable. The other two categories indicate a relatively low ratio of happiness, especially in small couture, which accounts for the lowest happiness ratio, resulted from the reason that they are mainly used to serve the upper class to show off their uniqueness and exclusivity."
   ]
  },
  {
   "cell_type": "markdown",
   "metadata": {},
   "source": [
    "The Standard deviation is displayed in the table below. The fact that the standard rank and average happiness ratio are the same is not surprising. The Designer category, having bunches of brand, has a higher value Std than Mega couture and Small courture, which is fairly reasonable. However, the Std value of High street again accounts for a value that other categories cannot compare, may come from incomparable number of posts, based on its near distance to regular people, generated unclean data. "
   ]
  },
  {
   "cell_type": "code",
   "execution_count": 110,
   "metadata": {},
   "outputs": [
    {
     "name": "stdout",
     "output_type": "stream",
     "text": [
      "[0.26873272141879895, 0.2847398297765662, 0.2597322665590063, 0.25448721580226685]\n"
     ]
    },
    {
     "data": {
      "image/png": "[encoded data removed]",
      "text/plain": [
       "<Figure size 640x480 with 1 Axes>"
      ]
     },
     "metadata": {},
     "output_type": "display_data"
    }
   ],
   "source": [
    "d = []\n",
    "for i in label:\n",
    "    ca = withface.loc[withface['BrandCategory'] == i, :]\n",
    "    d.append(ca['Happiness'].std())\n",
    "\n",
    "print(d)\n",
    "plt.bar(label, d) \n",
    "plt.show()"
   ]
  },
  {
   "cell_type": "code",
   "execution_count": 111,
   "metadata": {},
   "outputs": [
    {
     "data": {
      "image/png": "[encoded data removed]",
      "text/plain": [
       "<Figure size 640x480 with 1 Axes>"
      ]
     },
     "metadata": {},
     "output_type": "display_data"
    }
   ],
   "source": [
    "import matplotlib.pyplot as plt\n",
    "\n",
    "withface = df[df['ProductOnly'] < 0.4] # filter the photos without face\n",
    "\n",
    "withface2 = withface[withface['Face'] > 0.4] # double-filter the photos without face\n",
    "\n",
    "happyemo = withface.groupby(\"BrandName\").mean() # groupby Brand and get the average rate of happiness\n",
    "\n",
    "data = happyemo[\"Happiness\"] # get the data\n",
    "\n",
    "label = happyemo.index.tolist() # get the brand name\n",
    "\n",
    "plt.tick_params(axis='y', labelsize=4)\n",
    "plt.xlabel('The average rate of happiness in post affected by brands')\n",
    "plt.ylabel('BrandName')\n",
    "plt.title('The distribution of happiness rate')\n",
    "plt.barh(label, data) \n",
    "plt.show()"
   ]
  },
  {
   "cell_type": "code",
   "execution_count": 112,
   "metadata": {},
   "outputs": [
    {
     "name": "stdout",
     "output_type": "stream",
     "text": [
      "                            OLS Regression Results                            \n",
      "==============================================================================\n",
      "Dep. Variable:              Happiness   R-squared:                       0.734\n",
      "Model:                            OLS   Adj. R-squared:                  0.729\n",
      "Method:                 Least Squares   F-statistic:                     127.1\n",
      "Date:                Fri, 09 Dec 2022   Prob (F-statistic):           7.82e-15\n",
      "Time:                        00:12:31   Log-Likelihood:                 107.19\n",
      "No. Observations:                  48   AIC:                            -210.4\n",
      "Df Residuals:                      46   BIC:                            -206.6\n",
      "Df Model:                           1                                         \n",
      "Covariance Type:            nonrobust                                         \n",
      "==============================================================================\n",
      "                 coef    std err          t      P>|t|      [0.025      0.975]\n",
      "------------------------------------------------------------------------------\n",
      "Intercept      0.1044      0.004     27.312      0.000       0.097       0.112\n",
      "price         -0.0436      0.004    -11.275      0.000      -0.051      -0.036\n",
      "==============================================================================\n",
      "Omnibus:                        7.314   Durbin-Watson:                   1.858\n",
      "Prob(Omnibus):                  0.026   Jarque-Bera (JB):                7.536\n",
      "Skew:                           0.942   Prob(JB):                       0.0231\n",
      "Kurtosis:                       2.529   Cond. No.                         1.01\n",
      "==============================================================================\n",
      "\n",
      "Notes:\n",
      "[1] Standard Errors assume that the covariance matrix of the errors is correctly specified.\n"
     ]
    }
   ],
   "source": [
    "# average price collected from new arrival sub-data from its website\n",
    "price = [103, 245, 253, 264, 189, 156, 563, 196, 123, 503, 182, 289, 301, 121, 108, 163, 267, 112, 99, 182, 194, 88, 189, 220,72, 89, 123, 246, 276, 380, 345, 145, 138, 94 ,96, 293, 600, 72, 134,138,284, 108, 204, 168, 234, 115, 146, 160]\n",
    "happyemo['price'] = price\n",
    "happyemo['price'] = (happyemo['price']-happyemo['price'].mean())/(happyemo['price'].std()) #Standardize Price Data in DataFrame\n",
    "mod = smf.ols(formula = 'Happiness ~ price', data=happyemo)\n",
    "res = mod.fit()\n",
    "print(res.summary())"
   ]
  },
  {
   "cell_type": "markdown",
   "metadata": {},
   "source": [
    "The aforementioned graph merely serves to illustrate the relationship between a brand and the average happiness rate as determined by photo-tech API. It demonstrates that brands with high customer post happiness rates also have high average happiness rates on their shopping website images. For example, Gap and Hollister are the representatives of brands with an average high happiness rate, and if we go to their websites where we could find that the models in their advertising image smile.\n",
    "\n",
    "Additionally, we performed a regression analysis using the data from the happiness ratio and the average price of new products on the brand's website (new products are more representative of the brand's pricing than hot products). We were surprised to discover that the correlation between the average price and the average price reached -0.04 and was significant at the confidence interval (p = 0.00). We believe that as the price of the brand's products rises, the price of the brand also rises. We think that as the cost of branded goods rises, consumer contentment is expressed less positively on social media. "
   ]
  },
  {
   "cell_type": "markdown",
   "metadata": {},
   "source": [
    "![gap](/Users/adair/Downloads/dataverse_files/Gap.png \"Gap\")"
   ]
  },
  {
   "cell_type": "markdown",
   "metadata": {},
   "source": [
    "In contrast, as an example, Maison Margiela, with only 0.04 percent happiness, is one of the brands with a shockingly low happiness rate. We won't be shocked to see that none of its models are grinning in the image from its website, which is displayed below."
   ]
  },
  {
   "cell_type": "markdown",
   "metadata": {},
   "source": [
    "![gap](/Users/adair/Downloads/dataverse_files/MaisonMargiela.png \"Maison Margiela\")"
   ]
  },
  {
   "cell_type": "markdown",
   "metadata": {},
   "source": [
    "I believe that the data after processing can be used to test the relationship, for the reason that I first used the column index ‘face’, which indicates the possibility of any human face occurring in posts. Besides, there is a problem while collecting the data by using the hashtag of brand, it’s possible to collect some unrelated posts. An effective solution is using Google Cloud API to evaluate the ratio of ‘fashion’ by its Caption and image and eliminate the posts which are lower than a threshold."
   ]
  },
  {
   "cell_type": "markdown",
   "metadata": {},
   "source": [
    "In fact, the relationship between brands and customers is highly verified before the era of the digital internet. According to (Catenaccio, Paola 2007), they believe that the fashion industry, which includes high-street retailers that popularize clothing at affordable prices for the mass market as well as international fashion houses that design for a small elite, plays a significant role in determining, frequently in a way that is determined by culture. From the perspective of customers, they saw the advertisement, which was purposefully created by the brand to target consumers who share their values or are similar to them, and they unconsciously imagined themselves as the person in the advertisement. One of the most well-known and well-liked luxury companies in the world, Channel, for instance, regularly portrays a graceful, endearing, elegant and charming feminine figure in its advertisements, inspiring the desire of the viewer to emulate her."
   ]
  },
  {
   "cell_type": "markdown",
   "metadata": {},
   "source": [
    "Similarly, Anand Thakur (2016) indicates the perceived significance of emotional attachment and attitudinal brand loyalty is high in luxury fashion purchases and the emotional attachment, especially the feeling of envy and imitation, positively enhances female consumers’ attitudinal brand loyalty. \n",
    "\n",
    "In addition, what makes me astonishing is that the posts written by customers will continue to contagion other customers' understanding and perspective to brand culture, which keeps the ‘Heritage’ of culture propagating. Actually, Giri (2018) used Levi’s and Zara to test the hypothesis above and get the conclusion that social media such as Twitter can serve to be the repository of consumer sentiments and opinions."
   ]
  },
  {
   "cell_type": "markdown",
   "metadata": {},
   "source": [
    "In conclusion, the relationship between brand culture and customer emotional status on social media is very tight. By classifying the brands and figuring out the average happiness level, we discovered that consumers of traditional luxury brand Mega couture and niche luxury brand Small couture express relatively little happiness on social media, in contrast to the High Street category, where customers frequently do so because of the product's high price performance and accessibility. Meanwhile, due to the characteristic of ‘Designer’ containing a large number of brands with different cultures aiming at diverse customers, the Standard deviation value of it takes the highest rank among 4 categories. At the same time, we double-check the result by searching and collecting the image from the brand website and realize that the brand with its customer who shows lower happy emotion will have fewer smiling models on its websites. Besides, the average price listed on the NEW ARRIVAL of Brand website was manually calculated. I then performed a regression analysis between the average price and the happy emotion, and I was surprised to find the discovery that the correlation between the average price and the average price reached -0.04 and was significant at the confidence interval. This is what we would like to do in the following step. We think that the brand's pricing will increase as the cost of its items does and customer contentment is expressed less favorably on social media when the price of branded goods increases."
   ]
  },
  {
   "cell_type": "markdown",
   "metadata": {},
   "source": [
    "## Reference\n",
    "1.\tThakur, Anand, and Rupinderdeep Kaur. \"An empirical examination of relationship between emotional attachment and attitudinal brand loyalty towards luxury fashion brands.\" DLSU Business & Economics Review 26.1 (2016): 70-80.\n",
    "2.\tButcher, Luke, Ian Phau, and Min Teah. \"Brand prominence in luxury consumption: will emotional value adjudicate our longing for status?.\" Journal of Brand Management 23.6 (2016): 701-715.\n",
    "3.\tKim, Sooyun, et al. \"Customer emotions and their triggers in luxury retail: Understanding the effects of customer emotions before and after entering a luxury shop.\" Journal of Business Research 69.12 (2016): 5809-5818.\n",
    "4.\tKam, Seonju, and Youngsun Yoo. \"Practice of sustainable fashion design considering customer emotions and personal tastes.\" Frontiers in Psychology 13 (2022): 976471-976471.\n",
    "5.\tGiri, Chandadevi, et al. \"Analysis of consumer emotions about fashion brands: An exploratory study.\" Data Science and Knowledge Engineering for Sensing Decision Support: Proceedings of the 13th International FLINS Conference (FLINS 2018). 2018.\n",
    "6.\tTomasello, Michael. \"The human adaptation for culture.\" Annual review of anthropology 28 (1999).\n",
    "7.\tKim, Dongyoup, Hyowon Hyun, and Jungkun Park. \"The effect of interior color on customers’ aesthetic perception, emotion, and behavior in the luxury service.\" Journal of Retailing and Consumer Services 57 (2020): 102252.\n",
    "8.\tSo, Jing Theng, Andrew Grant Parsons, and Sheau‐Fen Yap. \"Corporate branding, emotional attachment and brand loyalty: the case of luxury fashion branding.\" Journal of Fashion Marketing and Management: An International Journal (2013)."
   ]
  }
 ],
 "metadata": {
  "kernelspec": {
   "display_name": "Python 3.9.13 ('base')",
   "language": "python",
   "name": "python3"
  },
  "language_info": {
   "codemirror_mode": {
    "name": "ipython",
    "version": 3
   },
   "file_extension": ".py",
   "mimetype": "text/x-python",
   "name": "python",
   "nbconvert_exporter": "python",
   "pygments_lexer": "ipython3",
   "version": "3.9.13"
  },
  "orig_nbformat": 4,
  "vscode": {
   "interpreter": {
    "hash": "c4ba7e12f488ae6c3986849fa75f5c338a09f55952d1cca0020d27ad7cf9ffa3"
   }
  }
 },
 "nbformat": 4,
 "nbformat_minor": 2
}
